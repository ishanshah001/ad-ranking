{
  "nbformat": 4,
  "nbformat_minor": 0,
  "metadata": {
    "colab": {
      "provenance": [],
      "gpuType": "T4"
    },
    "kernelspec": {
      "name": "python3",
      "display_name": "Python 3"
    },
    "language_info": {
      "name": "python"
    },
    "accelerator": "GPU"
  },
  "cells": [
    {
      "cell_type": "code",
      "source": [
        "!pip install -q pandas scikit-learn\n",
        "\n",
        "import pandas as pd\n",
        "import numpy as np\n",
        "import torch\n",
        "import torch.nn as nn\n",
        "import torch.optim as optim\n",
        "from sklearn.model_selection import train_test_split\n",
        "from sklearn.preprocessing import LabelEncoder, MinMaxScaler\n",
        "from torch.utils.data import Dataset, DataLoader"
      ],
      "metadata": {
        "id": "-puaPoaf8dsu"
      },
      "execution_count": 3,
      "outputs": []
    },
    {
      "cell_type": "code",
      "source": [
        "df = pd.read_csv('ad_10000records.csv')\n",
        "df.head()"
      ],
      "metadata": {
        "colab": {
          "base_uri": "https://localhost:8080/",
          "height": 327
        },
        "id": "0sH7Vpbt-F45",
        "outputId": "9c22b717-0449-48ea-ea48-31e5650ed72b"
      },
      "execution_count": 5,
      "outputs": [
        {
          "output_type": "execute_result",
          "data": {
            "text/plain": [
              "   Daily Time Spent on Site   Age  Area Income  Daily Internet Usage  \\\n",
              "0                     62.26  32.0     69481.85                172.83   \n",
              "1                     41.73  31.0     61840.26                207.17   \n",
              "2                     44.40  30.0     57877.15                172.83   \n",
              "3                     59.88  28.0     56180.93                207.17   \n",
              "4                     49.21  30.0     54324.73                201.58   \n",
              "\n",
              "                         Ad Topic Line             City  Gender  \\\n",
              "0      Decentralized real-time circuit         Lisafort    Male   \n",
              "1       Optional full-range projection  West Angelabury    Male   \n",
              "2  Total 5thgeneration standardization        Reyesfurt  Female   \n",
              "3          Balanced empowering success      New Michael  Female   \n",
              "4  Total 5thgeneration standardization     West Richard  Female   \n",
              "\n",
              "                        Country            Timestamp  Clicked on Ad  \n",
              "0  Svalbard & Jan Mayen Islands  2016-06-09 21:43:05              0  \n",
              "1                     Singapore  2016-01-16 17:56:05              0  \n",
              "2                    Guadeloupe  2016-06-29 10:50:45              0  \n",
              "3                        Zambia  2016-06-21 14:32:32              0  \n",
              "4                         Qatar  2016-07-21 10:54:35              1  "
            ],
            "text/html": [
              "\n",
              "  <div id=\"df-5bc0009f-1148-4eb9-9521-aac9150d526a\" class=\"colab-df-container\">\n",
              "    <div>\n",
              "<style scoped>\n",
              "    .dataframe tbody tr th:only-of-type {\n",
              "        vertical-align: middle;\n",
              "    }\n",
              "\n",
              "    .dataframe tbody tr th {\n",
              "        vertical-align: top;\n",
              "    }\n",
              "\n",
              "    .dataframe thead th {\n",
              "        text-align: right;\n",
              "    }\n",
              "</style>\n",
              "<table border=\"1\" class=\"dataframe\">\n",
              "  <thead>\n",
              "    <tr style=\"text-align: right;\">\n",
              "      <th></th>\n",
              "      <th>Daily Time Spent on Site</th>\n",
              "      <th>Age</th>\n",
              "      <th>Area Income</th>\n",
              "      <th>Daily Internet Usage</th>\n",
              "      <th>Ad Topic Line</th>\n",
              "      <th>City</th>\n",
              "      <th>Gender</th>\n",
              "      <th>Country</th>\n",
              "      <th>Timestamp</th>\n",
              "      <th>Clicked on Ad</th>\n",
              "    </tr>\n",
              "  </thead>\n",
              "  <tbody>\n",
              "    <tr>\n",
              "      <th>0</th>\n",
              "      <td>62.26</td>\n",
              "      <td>32.0</td>\n",
              "      <td>69481.85</td>\n",
              "      <td>172.83</td>\n",
              "      <td>Decentralized real-time circuit</td>\n",
              "      <td>Lisafort</td>\n",
              "      <td>Male</td>\n",
              "      <td>Svalbard &amp; Jan Mayen Islands</td>\n",
              "      <td>2016-06-09 21:43:05</td>\n",
              "      <td>0</td>\n",
              "    </tr>\n",
              "    <tr>\n",
              "      <th>1</th>\n",
              "      <td>41.73</td>\n",
              "      <td>31.0</td>\n",
              "      <td>61840.26</td>\n",
              "      <td>207.17</td>\n",
              "      <td>Optional full-range projection</td>\n",
              "      <td>West Angelabury</td>\n",
              "      <td>Male</td>\n",
              "      <td>Singapore</td>\n",
              "      <td>2016-01-16 17:56:05</td>\n",
              "      <td>0</td>\n",
              "    </tr>\n",
              "    <tr>\n",
              "      <th>2</th>\n",
              "      <td>44.40</td>\n",
              "      <td>30.0</td>\n",
              "      <td>57877.15</td>\n",
              "      <td>172.83</td>\n",
              "      <td>Total 5thgeneration standardization</td>\n",
              "      <td>Reyesfurt</td>\n",
              "      <td>Female</td>\n",
              "      <td>Guadeloupe</td>\n",
              "      <td>2016-06-29 10:50:45</td>\n",
              "      <td>0</td>\n",
              "    </tr>\n",
              "    <tr>\n",
              "      <th>3</th>\n",
              "      <td>59.88</td>\n",
              "      <td>28.0</td>\n",
              "      <td>56180.93</td>\n",
              "      <td>207.17</td>\n",
              "      <td>Balanced empowering success</td>\n",
              "      <td>New Michael</td>\n",
              "      <td>Female</td>\n",
              "      <td>Zambia</td>\n",
              "      <td>2016-06-21 14:32:32</td>\n",
              "      <td>0</td>\n",
              "    </tr>\n",
              "    <tr>\n",
              "      <th>4</th>\n",
              "      <td>49.21</td>\n",
              "      <td>30.0</td>\n",
              "      <td>54324.73</td>\n",
              "      <td>201.58</td>\n",
              "      <td>Total 5thgeneration standardization</td>\n",
              "      <td>West Richard</td>\n",
              "      <td>Female</td>\n",
              "      <td>Qatar</td>\n",
              "      <td>2016-07-21 10:54:35</td>\n",
              "      <td>1</td>\n",
              "    </tr>\n",
              "  </tbody>\n",
              "</table>\n",
              "</div>\n",
              "    <div class=\"colab-df-buttons\">\n",
              "\n",
              "  <div class=\"colab-df-container\">\n",
              "    <button class=\"colab-df-convert\" onclick=\"convertToInteractive('df-5bc0009f-1148-4eb9-9521-aac9150d526a')\"\n",
              "            title=\"Convert this dataframe to an interactive table.\"\n",
              "            style=\"display:none;\">\n",
              "\n",
              "  <svg xmlns=\"http://www.w3.org/2000/svg\" height=\"24px\" viewBox=\"0 -960 960 960\">\n",
              "    <path d=\"M120-120v-720h720v720H120Zm60-500h600v-160H180v160Zm220 220h160v-160H400v160Zm0 220h160v-160H400v160ZM180-400h160v-160H180v160Zm440 0h160v-160H620v160ZM180-180h160v-160H180v160Zm440 0h160v-160H620v160Z\"/>\n",
              "  </svg>\n",
              "    </button>\n",
              "\n",
              "  <style>\n",
              "    .colab-df-container {\n",
              "      display:flex;\n",
              "      gap: 12px;\n",
              "    }\n",
              "\n",
              "    .colab-df-convert {\n",
              "      background-color: #E8F0FE;\n",
              "      border: none;\n",
              "      border-radius: 50%;\n",
              "      cursor: pointer;\n",
              "      display: none;\n",
              "      fill: #1967D2;\n",
              "      height: 32px;\n",
              "      padding: 0 0 0 0;\n",
              "      width: 32px;\n",
              "    }\n",
              "\n",
              "    .colab-df-convert:hover {\n",
              "      background-color: #E2EBFA;\n",
              "      box-shadow: 0px 1px 2px rgba(60, 64, 67, 0.3), 0px 1px 3px 1px rgba(60, 64, 67, 0.15);\n",
              "      fill: #174EA6;\n",
              "    }\n",
              "\n",
              "    .colab-df-buttons div {\n",
              "      margin-bottom: 4px;\n",
              "    }\n",
              "\n",
              "    [theme=dark] .colab-df-convert {\n",
              "      background-color: #3B4455;\n",
              "      fill: #D2E3FC;\n",
              "    }\n",
              "\n",
              "    [theme=dark] .colab-df-convert:hover {\n",
              "      background-color: #434B5C;\n",
              "      box-shadow: 0px 1px 3px 1px rgba(0, 0, 0, 0.15);\n",
              "      filter: drop-shadow(0px 1px 2px rgba(0, 0, 0, 0.3));\n",
              "      fill: #FFFFFF;\n",
              "    }\n",
              "  </style>\n",
              "\n",
              "    <script>\n",
              "      const buttonEl =\n",
              "        document.querySelector('#df-5bc0009f-1148-4eb9-9521-aac9150d526a button.colab-df-convert');\n",
              "      buttonEl.style.display =\n",
              "        google.colab.kernel.accessAllowed ? 'block' : 'none';\n",
              "\n",
              "      async function convertToInteractive(key) {\n",
              "        const element = document.querySelector('#df-5bc0009f-1148-4eb9-9521-aac9150d526a');\n",
              "        const dataTable =\n",
              "          await google.colab.kernel.invokeFunction('convertToInteractive',\n",
              "                                                    [key], {});\n",
              "        if (!dataTable) return;\n",
              "\n",
              "        const docLinkHtml = 'Like what you see? Visit the ' +\n",
              "          '<a target=\"_blank\" href=https://colab.research.google.com/notebooks/data_table.ipynb>data table notebook</a>'\n",
              "          + ' to learn more about interactive tables.';\n",
              "        element.innerHTML = '';\n",
              "        dataTable['output_type'] = 'display_data';\n",
              "        await google.colab.output.renderOutput(dataTable, element);\n",
              "        const docLink = document.createElement('div');\n",
              "        docLink.innerHTML = docLinkHtml;\n",
              "        element.appendChild(docLink);\n",
              "      }\n",
              "    </script>\n",
              "  </div>\n",
              "\n",
              "\n",
              "    <div id=\"df-4d1c734f-de5d-41e7-8d25-2bd59f2cfa30\">\n",
              "      <button class=\"colab-df-quickchart\" onclick=\"quickchart('df-4d1c734f-de5d-41e7-8d25-2bd59f2cfa30')\"\n",
              "                title=\"Suggest charts\"\n",
              "                style=\"display:none;\">\n",
              "\n",
              "<svg xmlns=\"http://www.w3.org/2000/svg\" height=\"24px\"viewBox=\"0 0 24 24\"\n",
              "     width=\"24px\">\n",
              "    <g>\n",
              "        <path d=\"M19 3H5c-1.1 0-2 .9-2 2v14c0 1.1.9 2 2 2h14c1.1 0 2-.9 2-2V5c0-1.1-.9-2-2-2zM9 17H7v-7h2v7zm4 0h-2V7h2v10zm4 0h-2v-4h2v4z\"/>\n",
              "    </g>\n",
              "</svg>\n",
              "      </button>\n",
              "\n",
              "<style>\n",
              "  .colab-df-quickchart {\n",
              "      --bg-color: #E8F0FE;\n",
              "      --fill-color: #1967D2;\n",
              "      --hover-bg-color: #E2EBFA;\n",
              "      --hover-fill-color: #174EA6;\n",
              "      --disabled-fill-color: #AAA;\n",
              "      --disabled-bg-color: #DDD;\n",
              "  }\n",
              "\n",
              "  [theme=dark] .colab-df-quickchart {\n",
              "      --bg-color: #3B4455;\n",
              "      --fill-color: #D2E3FC;\n",
              "      --hover-bg-color: #434B5C;\n",
              "      --hover-fill-color: #FFFFFF;\n",
              "      --disabled-bg-color: #3B4455;\n",
              "      --disabled-fill-color: #666;\n",
              "  }\n",
              "\n",
              "  .colab-df-quickchart {\n",
              "    background-color: var(--bg-color);\n",
              "    border: none;\n",
              "    border-radius: 50%;\n",
              "    cursor: pointer;\n",
              "    display: none;\n",
              "    fill: var(--fill-color);\n",
              "    height: 32px;\n",
              "    padding: 0;\n",
              "    width: 32px;\n",
              "  }\n",
              "\n",
              "  .colab-df-quickchart:hover {\n",
              "    background-color: var(--hover-bg-color);\n",
              "    box-shadow: 0 1px 2px rgba(60, 64, 67, 0.3), 0 1px 3px 1px rgba(60, 64, 67, 0.15);\n",
              "    fill: var(--button-hover-fill-color);\n",
              "  }\n",
              "\n",
              "  .colab-df-quickchart-complete:disabled,\n",
              "  .colab-df-quickchart-complete:disabled:hover {\n",
              "    background-color: var(--disabled-bg-color);\n",
              "    fill: var(--disabled-fill-color);\n",
              "    box-shadow: none;\n",
              "  }\n",
              "\n",
              "  .colab-df-spinner {\n",
              "    border: 2px solid var(--fill-color);\n",
              "    border-color: transparent;\n",
              "    border-bottom-color: var(--fill-color);\n",
              "    animation:\n",
              "      spin 1s steps(1) infinite;\n",
              "  }\n",
              "\n",
              "  @keyframes spin {\n",
              "    0% {\n",
              "      border-color: transparent;\n",
              "      border-bottom-color: var(--fill-color);\n",
              "      border-left-color: var(--fill-color);\n",
              "    }\n",
              "    20% {\n",
              "      border-color: transparent;\n",
              "      border-left-color: var(--fill-color);\n",
              "      border-top-color: var(--fill-color);\n",
              "    }\n",
              "    30% {\n",
              "      border-color: transparent;\n",
              "      border-left-color: var(--fill-color);\n",
              "      border-top-color: var(--fill-color);\n",
              "      border-right-color: var(--fill-color);\n",
              "    }\n",
              "    40% {\n",
              "      border-color: transparent;\n",
              "      border-right-color: var(--fill-color);\n",
              "      border-top-color: var(--fill-color);\n",
              "    }\n",
              "    60% {\n",
              "      border-color: transparent;\n",
              "      border-right-color: var(--fill-color);\n",
              "    }\n",
              "    80% {\n",
              "      border-color: transparent;\n",
              "      border-right-color: var(--fill-color);\n",
              "      border-bottom-color: var(--fill-color);\n",
              "    }\n",
              "    90% {\n",
              "      border-color: transparent;\n",
              "      border-bottom-color: var(--fill-color);\n",
              "    }\n",
              "  }\n",
              "</style>\n",
              "\n",
              "      <script>\n",
              "        async function quickchart(key) {\n",
              "          const quickchartButtonEl =\n",
              "            document.querySelector('#' + key + ' button');\n",
              "          quickchartButtonEl.disabled = true;  // To prevent multiple clicks.\n",
              "          quickchartButtonEl.classList.add('colab-df-spinner');\n",
              "          try {\n",
              "            const charts = await google.colab.kernel.invokeFunction(\n",
              "                'suggestCharts', [key], {});\n",
              "          } catch (error) {\n",
              "            console.error('Error during call to suggestCharts:', error);\n",
              "          }\n",
              "          quickchartButtonEl.classList.remove('colab-df-spinner');\n",
              "          quickchartButtonEl.classList.add('colab-df-quickchart-complete');\n",
              "        }\n",
              "        (() => {\n",
              "          let quickchartButtonEl =\n",
              "            document.querySelector('#df-4d1c734f-de5d-41e7-8d25-2bd59f2cfa30 button');\n",
              "          quickchartButtonEl.style.display =\n",
              "            google.colab.kernel.accessAllowed ? 'block' : 'none';\n",
              "        })();\n",
              "      </script>\n",
              "    </div>\n",
              "\n",
              "    </div>\n",
              "  </div>\n"
            ],
            "application/vnd.google.colaboratory.intrinsic+json": {
              "type": "dataframe",
              "variable_name": "df",
              "summary": "{\n  \"name\": \"df\",\n  \"rows\": 10000,\n  \"fields\": [\n    {\n      \"column\": \"Daily Time Spent on Site\",\n      \"properties\": {\n        \"dtype\": \"number\",\n        \"std\": 15.704141935309204,\n        \"min\": 32.6,\n        \"max\": 90.97,\n        \"num_unique_values\": 460,\n        \"samples\": [\n          81.58,\n          57.24,\n          74.07\n        ],\n        \"semantic_type\": \"\",\n        \"description\": \"\"\n      }\n    },\n    {\n      \"column\": \"Age\",\n      \"properties\": {\n        \"dtype\": \"number\",\n        \"std\": 8.572972738563712,\n        \"min\": 19.0,\n        \"max\": 60.0,\n        \"num_unique_values\": 39,\n        \"samples\": [\n          60.0,\n          48.0,\n          26.0\n        ],\n        \"semantic_type\": \"\",\n        \"description\": \"\"\n      }\n    },\n    {\n      \"column\": \"Area Income\",\n      \"properties\": {\n        \"dtype\": \"number\",\n        \"std\": 13343.708717688527,\n        \"min\": 13996.5,\n        \"max\": 79332.33,\n        \"num_unique_values\": 524,\n        \"samples\": [\n          42760.22,\n          56593.8,\n          73538.09\n        ],\n        \"semantic_type\": \"\",\n        \"description\": \"\"\n      }\n    },\n    {\n      \"column\": \"Daily Internet Usage\",\n      \"properties\": {\n        \"dtype\": \"number\",\n        \"std\": 40.820951456932505,\n        \"min\": 105.22,\n        \"max\": 269.96,\n        \"num_unique_values\": 505,\n        \"samples\": [\n          223.03,\n          124.54,\n          171.9\n        ],\n        \"semantic_type\": \"\",\n        \"description\": \"\"\n      }\n    },\n    {\n      \"column\": \"Ad Topic Line\",\n      \"properties\": {\n        \"dtype\": \"category\",\n        \"num_unique_values\": 559,\n        \"samples\": [\n          \"Extended systemic policy\",\n          \"Organic bottom-line service-desk\",\n          \"Enhanced homogeneous moderator\"\n        ],\n        \"semantic_type\": \"\",\n        \"description\": \"\"\n      }\n    },\n    {\n      \"column\": \"City\",\n      \"properties\": {\n        \"dtype\": \"category\",\n        \"num_unique_values\": 521,\n        \"samples\": [\n          \"North Garyhaven\",\n          \"Port Jodi\",\n          \"Port Jeffrey\"\n        ],\n        \"semantic_type\": \"\",\n        \"description\": \"\"\n      }\n    },\n    {\n      \"column\": \"Gender\",\n      \"properties\": {\n        \"dtype\": \"category\",\n        \"num_unique_values\": 2,\n        \"samples\": [\n          \"Female\",\n          \"Male\"\n        ],\n        \"semantic_type\": \"\",\n        \"description\": \"\"\n      }\n    },\n    {\n      \"column\": \"Country\",\n      \"properties\": {\n        \"dtype\": \"category\",\n        \"num_unique_values\": 207,\n        \"samples\": [\n          \"Central African Republic\",\n          \"Saint Pierre and Miquelon\"\n        ],\n        \"semantic_type\": \"\",\n        \"description\": \"\"\n      }\n    },\n    {\n      \"column\": \"Timestamp\",\n      \"properties\": {\n        \"dtype\": \"object\",\n        \"num_unique_values\": 567,\n        \"samples\": [\n          \"2016-02-14 22:23:30\",\n          \"2016-07-07 13:37:34\"\n        ],\n        \"semantic_type\": \"\",\n        \"description\": \"\"\n      }\n    },\n    {\n      \"column\": \"Clicked on Ad\",\n      \"properties\": {\n        \"dtype\": \"number\",\n        \"std\": 0,\n        \"min\": 0,\n        \"max\": 1,\n        \"num_unique_values\": 2,\n        \"samples\": [\n          1,\n          0\n        ],\n        \"semantic_type\": \"\",\n        \"description\": \"\"\n      }\n    }\n  ]\n}"
            }
          },
          "metadata": {},
          "execution_count": 5
        }
      ]
    },
    {
      "cell_type": "markdown",
      "source": [
        "**Preprocess Data (Use All Ads)**"
      ],
      "metadata": {
        "id": "c1TTrRt6F0IY"
      }
    },
    {
      "cell_type": "code",
      "source": [
        "# Encode Gender\n",
        "le_gender = LabelEncoder()\n",
        "df['Gender'] = le_gender.fit_transform(df['Gender'])\n",
        "\n",
        "# Normalize numerical features\n",
        "scaler = MinMaxScaler()\n",
        "df[['Daily Time Spent on Site', 'Age', 'Area Income', 'Daily Internet Usage']] = scaler.fit_transform(\n",
        "    df[['Daily Time Spent on Site', 'Age', 'Area Income', 'Daily Internet Usage']]\n",
        ")\n",
        "\n",
        "# Encode Ad Topic Line (all ads)\n",
        "le_ad = LabelEncoder()\n",
        "df['Ad Topic Line'] = le_ad.fit_transform(df['Ad Topic Line'])\n",
        "\n",
        "# Full ad pool\n",
        "unique_ads = df['Ad Topic Line'].unique()\n",
        "num_ads = len(unique_ads)\n",
        "print(f\"Number of unique ads: {num_ads}\")"
      ],
      "metadata": {
        "colab": {
          "base_uri": "https://localhost:8080/"
        },
        "id": "94ytvKlw-EHV",
        "outputId": "c888f0ad-990a-464d-cf7c-315d181e2731"
      },
      "execution_count": 6,
      "outputs": [
        {
          "output_type": "stream",
          "name": "stdout",
          "text": [
            "Number of unique ads: 559\n"
          ]
        }
      ]
    },
    {
      "cell_type": "code",
      "source": [
        "import pickle\n",
        "\n",
        "with open('le_ad.pkl', 'wb') as f:\n",
        "    pickle.dump(le_ad, f)\n",
        "\n",
        "with open('le_gender.pkl', 'wb') as f:\n",
        "    pickle.dump(le_gender, f)\n",
        "\n",
        "with open('scaler.pkl', 'wb') as f:\n",
        "    pickle.dump(scaler, f)"
      ],
      "metadata": {
        "id": "Dlv7eAohAVpF"
      },
      "execution_count": 17,
      "outputs": []
    },
    {
      "cell_type": "markdown",
      "source": [
        "**Generate User-Ad Interaction Dataset**"
      ],
      "metadata": {
        "id": "8gjdkHUGF_Sb"
      }
    },
    {
      "cell_type": "code",
      "source": [
        "def generate_user_ad_pairs(df, negative_ratio=3):\n",
        "    user_ad_pairs = []\n",
        "    for idx, row in df.iterrows():\n",
        "        user_features = row[['Daily Time Spent on Site', 'Age', 'Area Income', 'Daily Internet Usage', 'Gender']].values\n",
        "        clicked_ad = row['Ad Topic Line']\n",
        "        label = row['Clicked on Ad']\n",
        "\n",
        "        # Positive sample\n",
        "        user_ad_pairs.append((user_features, clicked_ad, 1))\n",
        "\n",
        "        # Negative samples\n",
        "        for _ in range(negative_ratio):\n",
        "            negative_ad = np.random.choice(unique_ads[unique_ads != clicked_ad])\n",
        "            user_ad_pairs.append((user_features, negative_ad, 0))\n",
        "\n",
        "    return user_ad_pairs\n",
        "\n",
        "pairs = generate_user_ad_pairs(df)\n",
        "print(f\"Total samples (pos + neg): {len(pairs)}\")"
      ],
      "metadata": {
        "colab": {
          "base_uri": "https://localhost:8080/"
        },
        "id": "ro_hk2aQ8zF7",
        "outputId": "0ec0f124-9cdf-42d0-bd3e-b9a59484c03f"
      },
      "execution_count": 7,
      "outputs": [
        {
          "output_type": "stream",
          "name": "stdout",
          "text": [
            "Total samples (pos + neg): 40000\n"
          ]
        }
      ]
    },
    {
      "cell_type": "code",
      "source": [
        "class AdRankingDataset(torch.utils.data.Dataset):\n",
        "    def __init__(self, pairs):\n",
        "        self.pairs = pairs\n",
        "\n",
        "    def __len__(self):\n",
        "        return len(self.pairs)\n",
        "\n",
        "    def __getitem__(self, idx):\n",
        "        user_feats, ad_id, label = self.pairs[idx]\n",
        "\n",
        "        # Convert to numpy arrays with correct dtype if they are numpy object arrays\n",
        "        if isinstance(user_feats, np.ndarray) and user_feats.dtype == np.object_:\n",
        "            user_feats = user_feats.astype(np.float32)  # or float64 if you want\n",
        "\n",
        "        # For ad_id, if it's an object array or a list, convert to int\n",
        "        if isinstance(ad_id, (np.ndarray, list)) and np.array(ad_id).dtype == np.object_:\n",
        "            ad_id = np.array(ad_id).astype(np.int64)\n",
        "        elif not isinstance(ad_id, (int, np.integer)):\n",
        "            ad_id = int(ad_id)\n",
        "\n",
        "        return torch.tensor(user_feats, dtype=torch.float32), torch.tensor(ad_id, dtype=torch.long), torch.tensor(label, dtype=torch.float32)\n",
        "\n",
        "dataset = AdRankingDataset(pairs)\n",
        "train_set, test_set = train_test_split(dataset, test_size=0.2, random_state=42)\n",
        "train_loader = DataLoader(train_set, batch_size=64, shuffle=True)\n",
        "test_loader = DataLoader(test_set, batch_size=64)"
      ],
      "metadata": {
        "id": "UCUeu7vG-Y5R"
      },
      "execution_count": 8,
      "outputs": []
    },
    {
      "cell_type": "markdown",
      "source": [
        "**Twin Tower Model Definition**"
      ],
      "metadata": {
        "id": "5IynZ921GGGr"
      }
    },
    {
      "cell_type": "code",
      "source": [
        "class TwinTowerModel(nn.Module):\n",
        "    def __init__(self, user_input_dim, ad_vocab_size, embed_dim=32):\n",
        "        super(TwinTowerModel, self).__init__()\n",
        "        self.user_tower = nn.Sequential(\n",
        "            nn.Linear(user_input_dim, 64),\n",
        "            nn.ReLU(),\n",
        "            nn.Linear(64, embed_dim)\n",
        "        )\n",
        "        self.ad_embedding = nn.Embedding(ad_vocab_size, embed_dim)\n",
        "\n",
        "    def forward(self, user_feats, ad_ids):\n",
        "        user_emb = self.user_tower(user_feats)              # shape: (batch_size, embed_dim)\n",
        "        ad_emb = self.ad_embedding(ad_ids)                   # shape: (batch_size, embed_dim)\n",
        "        dot = (user_emb * ad_emb).sum(dim=1)                 # dot product per example\n",
        "        prob = torch.sigmoid(dot)\n",
        "        return prob"
      ],
      "metadata": {
        "id": "L5_E9IbX-l6P"
      },
      "execution_count": 9,
      "outputs": []
    },
    {
      "cell_type": "code",
      "source": [
        "device = torch.device(\"cuda\" if torch.cuda.is_available() else \"cpu\")\n",
        "print(f\"Using device: {device}\")\n",
        "\n",
        "model = TwinTowerModel(user_input_dim=5, ad_vocab_size=num_ads, embed_dim=32).to(device)\n",
        "criterion = nn.BCELoss()\n",
        "optimizer = optim.Adam(model.parameters(), lr=0.001)\n",
        "\n",
        "epochs = 10\n",
        "for epoch in range(epochs):\n",
        "    model.train()\n",
        "    running_loss = 0.0\n",
        "    for user_feats, ad_ids, labels in train_loader:\n",
        "        user_feats, ad_ids, labels = user_feats.to(device), ad_ids.to(device), labels.to(device)\n",
        "\n",
        "        optimizer.zero_grad()\n",
        "        outputs = model(user_feats, ad_ids)\n",
        "        loss = criterion(outputs, labels)\n",
        "        loss.backward()\n",
        "        optimizer.step()\n",
        "        running_loss += loss.item()\n",
        "\n",
        "    avg_loss = running_loss / len(train_loader)\n",
        "    print(f\"Epoch {epoch+1}/{epochs}, Loss: {avg_loss:.4f}\")\n",
        "torch.save(model.cpu(), 'twin_tower_model.pth')"
      ],
      "metadata": {
        "colab": {
          "base_uri": "https://localhost:8080/"
        },
        "id": "E-QhPZeb-07Z",
        "outputId": "6851f542-428d-4079-da17-97c6cdc0ad09"
      },
      "execution_count": 16,
      "outputs": [
        {
          "output_type": "stream",
          "name": "stdout",
          "text": [
            "Using device: cuda\n",
            "Epoch 1/10, Loss: 0.6573\n",
            "Epoch 2/10, Loss: 0.5166\n",
            "Epoch 3/10, Loss: 0.4231\n",
            "Epoch 4/10, Loss: 0.3909\n",
            "Epoch 5/10, Loss: 0.3749\n",
            "Epoch 6/10, Loss: 0.3639\n",
            "Epoch 7/10, Loss: 0.3542\n",
            "Epoch 8/10, Loss: 0.3465\n",
            "Epoch 9/10, Loss: 0.3394\n",
            "Epoch 10/10, Loss: 0.3332\n"
          ]
        }
      ]
    },
    {
      "cell_type": "markdown",
      "source": [
        "**Model Evaluation (AUC Score)**"
      ],
      "metadata": {
        "id": "il6n0wsoGJ20"
      }
    },
    {
      "cell_type": "code",
      "source": [
        "from sklearn.metrics import roc_auc_score\n",
        "\n",
        "model.eval()\n",
        "all_labels = []\n",
        "all_preds = []\n",
        "\n",
        "with torch.no_grad():\n",
        "    for user_feats, ad_ids, labels in test_loader:\n",
        "        user_feats, ad_ids = user_feats.to(device), ad_ids.to(device)\n",
        "        outputs = model(user_feats, ad_ids).cpu()\n",
        "        all_preds.extend(outputs.numpy())\n",
        "        all_labels.extend(labels.numpy())\n",
        "\n",
        "auc = roc_auc_score(all_labels, all_preds)\n",
        "print(f\"AUC on test set: {auc:.4f}\")"
      ],
      "metadata": {
        "colab": {
          "base_uri": "https://localhost:8080/"
        },
        "id": "8jSFayXH_Z8k",
        "outputId": "ce140299-324d-4157-b275-be5ef860793a"
      },
      "execution_count": 11,
      "outputs": [
        {
          "output_type": "stream",
          "name": "stdout",
          "text": [
            "AUC on test set: 0.8634\n"
          ]
        }
      ]
    },
    {
      "cell_type": "markdown",
      "source": [
        "**Candidate Retrieval + Ranking Function**"
      ],
      "metadata": {
        "id": "VMDB9znkGNku"
      }
    },
    {
      "cell_type": "code",
      "source": [
        "def recommend_topk_ads_for_user(model, user_row, top_k=5, candidate_k=100):\n",
        "    model.eval()\n",
        "    with torch.no_grad():\n",
        "        # Extract features as floats (convert dtype)\n",
        "\n",
        "        user_feats = torch.tensor(user_feats_np, dtype=torch.float32).to(device)\n",
        "        user_feats = user_feats.unsqueeze(0).repeat(candidate_k, 1)  # repeat candidate_k times\n",
        "\n",
        "        # Randomly sample candidate_k ads from full ad pool\n",
        "        candidate_ads = np.random.choice(unique_ads, size=candidate_k, replace=False)\n",
        "        ad_ids = torch.tensor(candidate_ads, dtype=torch.long).to(device)\n",
        "\n",
        "        # Predict scores\n",
        "        scores = model(user_feats, ad_ids)\n",
        "        top_indices = torch.topk(scores, top_k).indices.cpu().numpy()\n",
        "        top_ads = [le_ad.inverse_transform([candidate_ads[i]])[0] for i in top_indices]\n",
        "\n",
        "        return top_ads, scores[top_indices].cpu().numpy()\n"
      ],
      "metadata": {
        "id": "66PWtjFm_coT"
      },
      "execution_count": 14,
      "outputs": []
    },
    {
      "cell_type": "markdown",
      "source": [
        "**Demo - Recommend Ads for a Random User**"
      ],
      "metadata": {
        "id": "1zbZ9rw5GQ_A"
      }
    },
    {
      "cell_type": "code",
      "source": [
        "sample_user = df.sample(1).iloc[0]\n",
        "print(\"User features:\")\n",
        "print(sample_user[['Daily Time Spent on Site', 'Age', 'Area Income', 'Daily Internet Usage', 'Gender']])\n",
        "\n",
        "top_ads, scores = recommend_topk_ads_for_user(model, sample_user)\n",
        "\n",
        "print(\"\\nTop recommended ads and scores:\")\n",
        "for i, (ad, score) in enumerate(zip(top_ads, scores), 1):\n",
        "    print(f\"{i}. {ad} (Score: {score:.4f})\")"
      ],
      "metadata": {
        "colab": {
          "base_uri": "https://localhost:8080/"
        },
        "id": "H1eWyTb9_eq8",
        "outputId": "a4ddb016-6b45-4640-9765-54c6d56e7b4f"
      },
      "execution_count": 15,
      "outputs": [
        {
          "output_type": "stream",
          "name": "stdout",
          "text": [
            "User features:\n",
            "Daily Time Spent on Site     0.69385\n",
            "Age                         0.634146\n",
            "Area Income                 0.702372\n",
            "Daily Internet Usage        0.422848\n",
            "Gender                             0\n",
            "Name: 9574, dtype: object\n",
            "\n",
            "Top recommended ads and scores:\n",
            "1. Intuitive exuding service-desk (Score: 0.8745)\n",
            "2. Virtual bandwidth-monitored initiative (Score: 0.8637)\n",
            "3. Digitized content-based circuit (Score: 0.7795)\n",
            "4. Streamlined homogeneous analyzer (Score: 0.7135)\n",
            "5. Robust uniform framework (Score: 0.6579)\n"
          ]
        }
      ]
    }
  ]
}